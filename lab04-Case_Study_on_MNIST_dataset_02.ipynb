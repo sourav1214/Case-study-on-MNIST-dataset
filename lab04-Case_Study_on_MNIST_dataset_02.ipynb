{
  "nbformat": 4,
  "nbformat_minor": 0,
  "metadata": {
    "colab": {
      "name": "Case Study on MNIST dataset_02.ipynb",
      "version": "0.3.2",
      "provenance": [],
      "collapsed_sections": []
    },
    "kernelspec": {
      "display_name": "Python 3",
      "language": "python",
      "name": "python3"
    },
    "accelerator": "GPU"
  },
  "cells": [
    {
      "metadata": {
        "id": "aoUv7PId6rPh",
        "colab_type": "text"
      },
      "cell_type": "markdown",
      "source": [
        "# **MNIST handwriting detection**"
      ]
    },
    {
      "metadata": {
        "id": "H9kmnldhXeC9",
        "colab_type": "code",
        "colab": {}
      },
      "cell_type": "code",
      "source": [
        "import keras\n",
        "from keras.models import Sequential #import Sequential: https://keras.io/models/sequential/\n",
        "from keras.layers import Dense      #import Dense: https://keras.io/layers/core/#dense\n",
        "from keras.optimizers import RMSprop#import RMSprop: It is recommended to leave \n",
        "                                    #the parameters of this optimizer at their default values\n",
        "                                    #(except the learning rate, which can be freely tuned).\n",
        "from keras.layers import Dropout    #Dropout consists in randomly setting a fraction rate of \n",
        "                                    #input units to 0 at each update during training time, \n",
        "                                    #which helps prevent overfitting.\n",
        "import numpy as np                  #import numarical python\n",
        "# fix random seed for reproducibility\n",
        "seed = 7\n",
        "np.random.seed(seed)\n",
        "# Plot ad hoc mnist instances\n",
        "from keras.datasets import mnist "
      ],
      "execution_count": 0,
      "outputs": []
    },
    {
      "metadata": {
        "id": "H7td2wHRXeDJ",
        "colab_type": "code",
        "outputId": "1d88bdb0-bd0c-40dc-afbc-072bfc96701d",
        "colab": {
          "base_uri": "https://localhost:8080/",
          "height": 34
        }
      },
      "cell_type": "code",
      "source": [
        "mnist"
      ],
      "execution_count": 4,
      "outputs": [
        {
          "output_type": "execute_result",
          "data": {
            "text/plain": [
              "<module 'keras.datasets.mnist' from '/usr/local/lib/python3.6/dist-packages/keras/datasets/mnist.py'>"
            ]
          },
          "metadata": {
            "tags": []
          },
          "execution_count": 4
        }
      ]
    },
    {
      "metadata": {
        "id": "HqaGVgU7XeDZ",
        "colab_type": "code",
        "colab": {}
      },
      "cell_type": "code",
      "source": [
        "# load (downloaded if needed) the MNIST dataset\n",
        "(x_train,y_train),(x_test,y_test) = mnist.load_data()"
      ],
      "execution_count": 0,
      "outputs": []
    },
    {
      "metadata": {
        "id": "LTOJsaCeXeDi",
        "colab_type": "code",
        "colab": {}
      },
      "cell_type": "code",
      "source": [
        "# flatten 28*28 images to a 784 vector for each image\n",
        "\n",
        "#num_pixels = X_train.shape[1] * X_train.shape[2]\n",
        "#X_train = X_train.reshape(X_train.shape[0], num_pixels).astype('float32')\n",
        "#X_test = X_test.reshape(X_test.shape[0], num_pixels).astype('float32')\n",
        "\n",
        "x_train = x_train.reshape(60000,784)\n",
        "x_test = x_test.reshape(10000,784)\n",
        "x_train = x_train.astype('float32')\n",
        "x_test = x_test.astype('float32')\n",
        "\n",
        "\n",
        "# normalize inputs from 0-255 to 0-1\n",
        "x_train /= 255\n",
        "x_test /= 255\n",
        "\n",
        "\n",
        "# one hot encode outputs\n",
        "y_train = keras.utils.to_categorical(y_train,num_classes=10 )\n",
        "y_test = keras.utils.to_categorical(y_test,num_classes=10 )\n"
      ],
      "execution_count": 0,
      "outputs": []
    },
    {
      "metadata": {
        "id": "LornkTCPXeEB",
        "colab_type": "code",
        "colab": {}
      },
      "cell_type": "code",
      "source": [
        "batch_size = 64\n",
        "num_classes = 10\n",
        "epochs = 100"
      ],
      "execution_count": 0,
      "outputs": []
    },
    {
      "metadata": {
        "id": "O3E6rzW5XeEH",
        "colab_type": "code",
        "colab": {}
      },
      "cell_type": "code",
      "source": [
        "# create model\n",
        "model = Sequential()\n",
        "model.add(Dense(512, input_shape=(784,), activation='relu'))\n",
        "model.add(Dense(212, activation='relu'))\n",
        "model.add(Dropout(0.2))\n",
        "model.add(Dense(64, activation='relu'))\n",
        "model.add(Dense(num_classes, activation = 'softmax'))\n",
        "\n"
      ],
      "execution_count": 0,
      "outputs": []
    },
    {
      "metadata": {
        "id": "7wXHZsNrXeES",
        "colab_type": "code",
        "outputId": "96fb00e3-42f0-46e1-a991-f06595a31c9e",
        "colab": {
          "base_uri": "https://localhost:8080/",
          "height": 311
        }
      },
      "cell_type": "code",
      "source": [
        "# summary of model\n",
        "model.summary()"
      ],
      "execution_count": 9,
      "outputs": [
        {
          "output_type": "stream",
          "text": [
            "_________________________________________________________________\n",
            "Layer (type)                 Output Shape              Param #   \n",
            "=================================================================\n",
            "dense_1 (Dense)              (None, 512)               401920    \n",
            "_________________________________________________________________\n",
            "dense_2 (Dense)              (None, 212)               108756    \n",
            "_________________________________________________________________\n",
            "dropout_1 (Dropout)          (None, 212)               0         \n",
            "_________________________________________________________________\n",
            "dense_3 (Dense)              (None, 64)                13632     \n",
            "_________________________________________________________________\n",
            "dense_4 (Dense)              (None, 10)                650       \n",
            "=================================================================\n",
            "Total params: 524,958\n",
            "Trainable params: 524,958\n",
            "Non-trainable params: 0\n",
            "_________________________________________________________________\n"
          ],
          "name": "stdout"
        }
      ]
    },
    {
      "metadata": {
        "id": "OYIzX6eeXeEX",
        "colab_type": "code",
        "outputId": "c854990c-56b3-494b-85a2-6094dc302644",
        "colab": {
          "base_uri": "https://localhost:8080/",
          "height": 380
        }
      },
      "cell_type": "code",
      "source": [
        "# compile model\n",
        "model.compile(loss='categorical_crossentropy', optimizer=RMSprop(), metrics=['accuracy'])\n",
        "# fit model\n",
        "hist=model.fit(x_train, y_train, validation_data=(x_test, y_test), epochs=10, batch_size=64)"
      ],
      "execution_count": 10,
      "outputs": [
        {
          "output_type": "stream",
          "text": [
            "Train on 60000 samples, validate on 10000 samples\n",
            "Epoch 1/10\n",
            "60000/60000 [==============================] - 7s 111us/step - loss: 0.2309 - acc: 0.9298 - val_loss: 0.1143 - val_acc: 0.9639\n",
            "Epoch 2/10\n",
            "60000/60000 [==============================] - 6s 95us/step - loss: 0.0968 - acc: 0.9722 - val_loss: 0.0971 - val_acc: 0.9721\n",
            "Epoch 3/10\n",
            "60000/60000 [==============================] - 6s 95us/step - loss: 0.0721 - acc: 0.9794 - val_loss: 0.0835 - val_acc: 0.9768\n",
            "Epoch 4/10\n",
            "60000/60000 [==============================] - 6s 95us/step - loss: 0.0583 - acc: 0.9840 - val_loss: 0.1094 - val_acc: 0.9684\n",
            "Epoch 5/10\n",
            "60000/60000 [==============================] - 6s 94us/step - loss: 0.0501 - acc: 0.9860 - val_loss: 0.0979 - val_acc: 0.9777\n",
            "Epoch 6/10\n",
            "60000/60000 [==============================] - 6s 96us/step - loss: 0.0481 - acc: 0.9877 - val_loss: 0.0932 - val_acc: 0.9806\n",
            "Epoch 7/10\n",
            "60000/60000 [==============================] - 6s 95us/step - loss: 0.0404 - acc: 0.9903 - val_loss: 0.1110 - val_acc: 0.9777\n",
            "Epoch 8/10\n",
            "60000/60000 [==============================] - 6s 95us/step - loss: 0.0406 - acc: 0.9902 - val_loss: 0.1022 - val_acc: 0.9796\n",
            "Epoch 9/10\n",
            "60000/60000 [==============================] - 6s 94us/step - loss: 0.0382 - acc: 0.9905 - val_loss: 0.1198 - val_acc: 0.9785\n",
            "Epoch 10/10\n",
            "60000/60000 [==============================] - 6s 95us/step - loss: 0.0332 - acc: 0.9926 - val_loss: 0.1478 - val_acc: 0.9791\n"
          ],
          "name": "stdout"
        }
      ]
    },
    {
      "metadata": {
        "id": "AHPzHW4LXeEc",
        "colab_type": "code",
        "outputId": "76e9084b-ed60-474c-f94a-0659b5347faa",
        "colab": {
          "base_uri": "https://localhost:8080/",
          "height": 34
        }
      },
      "cell_type": "code",
      "source": [
        "import sys\n",
        "sys.version"
      ],
      "execution_count": 11,
      "outputs": [
        {
          "output_type": "execute_result",
          "data": {
            "text/plain": [
              "'3.6.7 (default, Oct 22 2018, 11:32:17) \\n[GCC 8.2.0]'"
            ]
          },
          "metadata": {
            "tags": []
          },
          "execution_count": 11
        }
      ]
    },
    {
      "metadata": {
        "id": "I6mbU6GwXeEh",
        "colab_type": "code",
        "colab": {}
      },
      "cell_type": "code",
      "source": [
        "score = model.evaluate(x_test, y_test, verbose=0)"
      ],
      "execution_count": 0,
      "outputs": []
    },
    {
      "metadata": {
        "id": "PH3kLmaRXeEk",
        "colab_type": "code",
        "outputId": "20518f39-9b7d-48f1-ca52-6d165703608b",
        "colab": {
          "base_uri": "https://localhost:8080/",
          "height": 34
        }
      },
      "cell_type": "code",
      "source": [
        "#print loss score\n",
        "print('Test loss:', score[0]*100)"
      ],
      "execution_count": 15,
      "outputs": [
        {
          "output_type": "stream",
          "text": [
            "Test loss: 14.77717303594988\n"
          ],
          "name": "stdout"
        }
      ]
    },
    {
      "metadata": {
        "id": "kzk6HUJNXeEp",
        "colab_type": "code",
        "outputId": "6b90dc50-defb-4260-a8ad-391876d896b1",
        "colab": {
          "base_uri": "https://localhost:8080/",
          "height": 34
        }
      },
      "cell_type": "code",
      "source": [
        "#print accuracy score\n",
        "print('Test accuracy:', score[1]*100)"
      ],
      "execution_count": 16,
      "outputs": [
        {
          "output_type": "stream",
          "text": [
            "Test accuracy: 97.91\n"
          ],
          "name": "stdout"
        }
      ]
    },
    {
      "metadata": {
        "id": "qGnzLdHmXeEt",
        "colab_type": "code",
        "outputId": "32d0d260-8050-4190-ce38-abc8e13cfb99",
        "colab": {
          "base_uri": "https://localhost:8080/",
          "height": 34
        }
      },
      "cell_type": "code",
      "source": [
        "# ptint history keys\n",
        "print(hist.history.keys())"
      ],
      "execution_count": 17,
      "outputs": [
        {
          "output_type": "stream",
          "text": [
            "dict_keys(['val_loss', 'val_acc', 'loss', 'acc'])\n"
          ],
          "name": "stdout"
        }
      ]
    },
    {
      "metadata": {
        "id": "cGO-oLjfckBQ",
        "colab_type": "code",
        "outputId": "c59fa04f-4339-4175-b82f-ad331131ba47",
        "colab": {
          "base_uri": "https://localhost:8080/",
          "height": 376
        }
      },
      "cell_type": "code",
      "source": [
        "import matplotlib.pyplot as plt        #import matplotlib\n",
        "# plot figure1\n",
        "fig1 = plt.figure()                    \n",
        "plt.plot(hist.history['loss'])\n",
        "plt.plot(hist.history['val_loss'])\n",
        "plt.title('Model loss')\n",
        "plt.ylabel('loss')\n",
        "plt.xlabel('epoch')\n",
        "plt.legend(['train','test'], loc='upper right')\n",
        "fig1.savefig('loss_plot.jpg')          # save figure1"
      ],
      "execution_count": 18,
      "outputs": [
        {
          "output_type": "display_data",
          "data": {
            "image/png": "[encoded data removed]",
            "text/plain": [
              "<matplotlib.figure.Figure at 0x7fb5d8fcca58>"
            ]
          },
          "metadata": {
            "tags": []
          }
        }
      ]
    },
    {
      "metadata": {
        "id": "bzl2ePNsd3T1",
        "colab_type": "code",
        "outputId": "c4cb7897-50c2-45cd-cde9-102805eb1b42",
        "colab": {
          "base_uri": "https://localhost:8080/",
          "height": 376
        }
      },
      "cell_type": "code",
      "source": [
        "# plot figure2\n",
        "fig2 = plt.figure()\n",
        "plt.plot(hist.history['acc'])\n",
        "plt.plot(hist.history['val_acc'])\n",
        "plt.title('Model accuracy')\n",
        "plt.ylabel('accuracy')\n",
        "plt.xlabel('epoch')\n",
        "plt.legend(['train','test'], loc='upper left')\n",
        "#save figure2\n",
        "fig2.savefig('acc_plot.jpg')"
      ],
      "execution_count": 19,
      "outputs": [
        {
          "output_type": "display_data",
          "data": {
            "image/png": "[encoded data removed]",
            "text/plain": [
              "<matplotlib.figure.Figure at 0x7fb5d8fc3b38>"
            ]
          },
          "metadata": {
            "tags": []
          }
        }
      ]
    },
    {
      "metadata": {
        "id": "Bw8MbFZzht07",
        "colab_type": "code",
        "outputId": "e342cad5-b6ea-4f2c-f921-91050e6d0f49",
        "colab": {
          "base_uri": "https://localhost:8080/",
          "height": 34
        }
      },
      "cell_type": "code",
      "source": [
        "import os\n",
        "print( os.getcwd() )"
      ],
      "execution_count": 20,
      "outputs": [
        {
          "output_type": "stream",
          "text": [
            "/content\n"
          ],
          "name": "stdout"
        }
      ]
    },
    {
      "metadata": {
        "id": "SO8QzDJFH5kc",
        "colab_type": "code",
        "outputId": "2da0beac-c28a-4bcb-d0fb-ae05b71d1e17",
        "colab": {
          "base_uri": "https://localhost:8080/",
          "height": 34
        }
      },
      "cell_type": "code",
      "source": [
        "print( os.listdir() )"
      ],
      "execution_count": 21,
      "outputs": [
        {
          "output_type": "stream",
          "text": [
            "['.config', 'sample_data', 'loss_plot.jpg', 'acc_plot.jpg']\n"
          ],
          "name": "stdout"
        }
      ]
    },
    {
      "metadata": {
        "id": "yi3JF8h68bDL",
        "colab_type": "code",
        "colab": {}
      },
      "cell_type": "code",
      "source": [
        "# download figure\n",
        "from google.colab import files\n",
        "files.download( \"acc_plot.jpg\" )\n",
        "from google.colab import files\n",
        "files.download( \"loss_plot.jpg\" )\n"
      ],
      "execution_count": 0,
      "outputs": []
    },
    {
      "metadata": {
        "id": "4aD9_EhT-LUf",
        "colab_type": "code",
        "colab": {}
      },
      "cell_type": "code",
      "source": [
        ""
      ],
      "execution_count": 0,
      "outputs": []
    }
  ]
}